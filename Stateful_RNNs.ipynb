{
  "cells": [
    {
      "cell_type": "markdown",
      "metadata": {
        "id": "view-in-github",
        "colab_type": "text"
      },
      "source": [
        "<a href=\"https://colab.research.google.com/github/shughes-21/TF2_Specialization/blob/customising_your_models_with_tf2/Stateful_RNNs.ipynb\" target=\"_parent\"><img src=\"https://colab.research.google.com/assets/colab-badge.svg\" alt=\"Open In Colab\"/></a>"
      ]
    },
    {
      "cell_type": "markdown",
      "metadata": {
        "id": "knUu0vEETHOv"
      },
      "source": [
        "# Stateful RNNs"
      ]
    },
    {
      "cell_type": "markdown",
      "metadata": {
        "id": "zYhiBorPTHOz"
      },
      "source": [
        "In this reading notebook you will learn how to retain the state of an RNN when processing long sequences."
      ]
    },
    {
      "cell_type": "code",
      "execution_count": null,
      "metadata": {
        "id": "hHJ6ppuMTHOz"
      },
      "outputs": [],
      "source": [
        "import tensorflow as tf\n",
        "tf.__version__"
      ]
    },
    {
      "cell_type": "markdown",
      "metadata": {
        "id": "Ya9OJmK2THO0"
      },
      "source": [
        "So far you have trained RNNs on entire sequences, possibly of varying length. In some applications, such as financial time series modeling or real-time speech processing, the input sequence can be very long. \n",
        "\n",
        "One way to process such sequences is to simply chop up the sequences into separate batches. However, the internal state of the RNN would then normally be reset in between the batches. Persisting an RNN cell's state between batches is useful in such contexts."
      ]
    },
    {
      "cell_type": "markdown",
      "metadata": {
        "id": "bS4w8b4VTHO1"
      },
      "source": [
        "## Stateful and non-stateful RNN models\n",
        "We will begin by creating two versions of the same RNN model. The first is a regular RNN that does not retain its state."
      ]
    },
    {
      "cell_type": "code",
      "execution_count": null,
      "metadata": {
        "id": "ldNgdV-ETHO1"
      },
      "outputs": [],
      "source": [
        "# Create a regular (non-stateful) RNN\n",
        "\n",
        "from tensorflow.keras.models import Sequential\n",
        "from tensorflow.keras.layers import GRU\n",
        "\n",
        "gru = Sequential([\n",
        "    GRU(5, input_shape=(None, 1), name='rnn')\n",
        "])"
      ]
    },
    {
      "cell_type": "markdown",
      "metadata": {
        "id": "FJv_ENFbTHO1"
      },
      "source": [
        "To persist RNN cell states between batches, you can use the `stateful` argument when you initialize an RNN layer. The default value of this argument is `False`. This argument is available for all RNN layer types."
      ]
    },
    {
      "cell_type": "code",
      "execution_count": null,
      "metadata": {
        "id": "PFxTZ124THO2"
      },
      "outputs": [],
      "source": [
        "# Create a stateful RNN\n",
        "\n",
        "stateful_gru = Sequential([\n",
        "    GRU(5, stateful=True, batch_input_shape=(2, None, 1), name='stateful_rnn')\n",
        "])"
      ]
    },
    {
      "cell_type": "markdown",
      "metadata": {
        "id": "lyf9GpBMTHO2"
      },
      "source": [
        "Note that as well as setting `stateful=True`, we have also specified the `batch_input_shape`. This fixes the number of elements in a batch, as well as providing the sequence length and number of features. So the above model will always require a batch of 2 sequences.\n",
        "\n",
        "When using stateful RNNs, it is necessary to supply this argument to the first layer of a `Sequential` model. This is because the model will always assume that each element of every subsequent batch it receives will be a continuation of the sequence from the corresponding element in the previous batch.\n",
        "\n",
        "Another detail is that when defining a model with a stateful RNN using the functional API, you will need to specify the `batch_shape` argument as follows:"
      ]
    },
    {
      "cell_type": "code",
      "execution_count": null,
      "metadata": {
        "id": "ujWg_46zTHO3"
      },
      "outputs": [],
      "source": [
        "# Redefine the same stateful RNN using the functional API\n",
        "\n",
        "from tensorflow.keras.models import Model\n",
        "from tensorflow.keras.layers import Input\n",
        "\n",
        "inputs = Input(batch_shape=(2, None, 1))\n",
        "outputs = GRU(5, stateful=True, name='stateful_rnn')(inputs)\n",
        "\n",
        "stateful_gru = Model(inputs=inputs, outputs=outputs)"
      ]
    },
    {
      "cell_type": "markdown",
      "metadata": {
        "id": "wLdPhxBPTHO3"
      },
      "source": [
        "### Inspect the RNN states\n",
        "We can inspect the RNN layer states by retrieving the recurrent layer from each model, and looking at the `states` property."
      ]
    },
    {
      "cell_type": "code",
      "execution_count": null,
      "metadata": {
        "id": "IRIQNlKqTHO3"
      },
      "outputs": [],
      "source": [
        "# Retrieve the RNN layer and inspect the internal state\n",
        "\n",
        "gru.get_layer('rnn').states"
      ]
    },
    {
      "cell_type": "code",
      "execution_count": null,
      "metadata": {
        "id": "c3tYHFx3THO4"
      },
      "outputs": [],
      "source": [
        "# Retrieve the RNN layer and inspect the internal state\n",
        "\n",
        "stateful_gru.get_layer('stateful_rnn').states"
      ]
    },
    {
      "cell_type": "markdown",
      "metadata": {
        "id": "LqilvZwrTHO4"
      },
      "source": [
        "Note that the internal state of the stateful RNN has a state stored for each element in a batch, which is why the shape of the state Variable is `(2, 5)`."
      ]
    },
    {
      "cell_type": "markdown",
      "metadata": {
        "id": "cyBurfaGTHO4"
      },
      "source": [
        "### Create a simple sequence dataset\n",
        "We will demonstrate the effect of statefulness on a simple sequence dataset consisting of two sequences."
      ]
    },
    {
      "cell_type": "code",
      "execution_count": null,
      "metadata": {
        "id": "dAGw9pGaTHO4"
      },
      "outputs": [],
      "source": [
        "# Create the sequence dataset\n",
        "\n",
        "sequence_data = tf.constant([\n",
        "    [[-4.], [-3.], [-2.], [-1.], [0.], [1.], [2.], [3.], [4.]],\n",
        "    [[-40.], [-30.], [-20.], [-10.], [0.], [10.], [20.], [30.], [40.]]\n",
        "], dtype=tf.float32)\n",
        "sequence_data.shape"
      ]
    },
    {
      "cell_type": "markdown",
      "metadata": {
        "id": "gy2HpbAcTHO5"
      },
      "source": [
        "### Process the sequence batch with both models"
      ]
    },
    {
      "cell_type": "markdown",
      "metadata": {
        "id": "TUqZg3wTTHO5"
      },
      "source": [
        "Now see what happens when you pass the batch of sequences through either model:"
      ]
    },
    {
      "cell_type": "code",
      "execution_count": null,
      "metadata": {
        "id": "j3XHH4a8THO5"
      },
      "outputs": [],
      "source": [
        "# Process the batch with both models\n",
        "\n",
        "_1 = gru(sequence_data)\n",
        "_2 = stateful_gru(sequence_data)"
      ]
    },
    {
      "cell_type": "code",
      "execution_count": null,
      "metadata": {
        "id": "2Vb0JeA8THO5"
      },
      "outputs": [],
      "source": [
        "# Retrieve the RNN layer and inspect the internal state\n",
        "\n",
        "gru.get_layer('rnn').states"
      ]
    },
    {
      "cell_type": "code",
      "execution_count": null,
      "metadata": {
        "id": "NhY6kDpDTHO5"
      },
      "outputs": [],
      "source": [
        "# Retrieve the RNN layer and inspect the internal state\n",
        "\n",
        "stateful_gru.get_layer('stateful_rnn').states"
      ]
    },
    {
      "cell_type": "markdown",
      "metadata": {
        "id": "nGfuR2FKTHO6"
      },
      "source": [
        "The stateful RNN model has updated and retained its state after having processed the input sequence batch. This internal state could then be used as the initial state for processing a continuation of both sequences in the next batch."
      ]
    },
    {
      "cell_type": "markdown",
      "metadata": {
        "id": "dgcQqXbJTHO6"
      },
      "source": [
        "### Resetting the internal state\n",
        "If you need a stateful RNN to forget (or re-initialise) its state, then you can call an RNN layer's `reset_states()` method."
      ]
    },
    {
      "cell_type": "code",
      "execution_count": null,
      "metadata": {
        "id": "1dO2tR16THO6"
      },
      "outputs": [],
      "source": [
        "# Reset the internal state of the stateful RNN model\n",
        "\n",
        "stateful_gru.get_layer('stateful_rnn').reset_states()"
      ]
    },
    {
      "cell_type": "code",
      "execution_count": null,
      "metadata": {
        "id": "dpz5bBpaTHO6"
      },
      "outputs": [],
      "source": [
        "# Retrieve the RNN layer and inspect the internal state\n",
        "\n",
        "stateful_gru.get_layer('stateful_rnn').states"
      ]
    },
    {
      "cell_type": "markdown",
      "metadata": {
        "id": "DZQb_h9bTHO6"
      },
      "source": [
        "Note that `reset_states()` resets the state to `0.`, which is the default initial state for the RNN layers in TensorFlow."
      ]
    },
    {
      "cell_type": "markdown",
      "metadata": {
        "id": "uUaICHPWTHO6"
      },
      "source": [
        "### Retaining internal state across batches\n",
        "Passing a sequence to a stateful layer as several subsequences produces the same final output as passing the whole sequence at once."
      ]
    },
    {
      "cell_type": "code",
      "execution_count": null,
      "metadata": {
        "id": "uqgetu3MTHO7"
      },
      "outputs": [],
      "source": [
        "# Reset the internal state of the stateful RNN model and process the full sequences\n",
        "\n",
        "stateful_gru.get_layer('stateful_rnn').reset_states()\n",
        "_ = stateful_gru(sequence_data)\n",
        "stateful_gru.get_layer('stateful_rnn').states"
      ]
    },
    {
      "cell_type": "code",
      "execution_count": null,
      "metadata": {
        "id": "bZjSx30gTHO7"
      },
      "outputs": [],
      "source": [
        "# Break the sequences into batches\n",
        "\n",
        "sequence_batch1 = sequence_data[:, :3, :]\n",
        "sequence_batch2 = sequence_data[:, 3:6, :]\n",
        "sequence_batch3 = sequence_data[:, 6:, :]\n",
        "\n",
        "print(\"First batch:\", sequence_batch1)\n",
        "print(\"\\nSecond batch:\", sequence_batch2)\n",
        "print(\"\\nThird batch:\", sequence_batch3)"
      ]
    },
    {
      "cell_type": "markdown",
      "metadata": {
        "id": "rhAfucYXTHO7"
      },
      "source": [
        "Note that the first element in every batch is part of the same sequence, and the second element in every batch is part of the same sequence."
      ]
    },
    {
      "cell_type": "code",
      "execution_count": null,
      "metadata": {
        "id": "QSvbzEiGTHO7"
      },
      "outputs": [],
      "source": [
        "# Reset the internal state of the stateful RNN model and process the batches in order\n",
        "\n",
        "stateful_gru.get_layer('stateful_rnn').reset_states()\n",
        "_ = stateful_gru(sequence_batch1)\n",
        "_ = stateful_gru(sequence_batch2)\n",
        "_ = stateful_gru(sequence_batch3)\n",
        "stateful_gru.get_layer('stateful_rnn').states"
      ]
    },
    {
      "cell_type": "markdown",
      "metadata": {
        "id": "L2MmXHf_THO7"
      },
      "source": [
        "Notice that the internal state of the stateful RNN after processing each batch is the same as it was earlier when we processed the entire sequence at once.\n",
        "\n",
        "This property can be used when training stateful RNNs, if we ensure that each example in a batch is a continuation of the same sequence as the corresponding example in the previous batch."
      ]
    },
    {
      "cell_type": "markdown",
      "metadata": {
        "id": "IRhazlVqTHO8"
      },
      "source": [
        "## Further reading and resources\n",
        "* https://www.tensorflow.org/guide/keras/rnn#cross-batch_statefulness"
      ]
    }
  ],
  "metadata": {
    "kernelspec": {
      "display_name": "Python 3",
      "language": "python",
      "name": "python3"
    },
    "language_info": {
      "codemirror_mode": {
        "name": "ipython",
        "version": 3
      },
      "file_extension": ".py",
      "mimetype": "text/x-python",
      "name": "python",
      "nbconvert_exporter": "python",
      "pygments_lexer": "ipython3",
      "version": "3.7.1"
    },
    "colab": {
      "provenance": [],
      "include_colab_link": true
    }
  },
  "nbformat": 4,
  "nbformat_minor": 0
}